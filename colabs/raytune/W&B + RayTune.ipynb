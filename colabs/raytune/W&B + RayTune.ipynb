{
  "nbformat": 4,
  "nbformat_minor": 0,
  "metadata": {
    "colab": {
      "name": "W&B-RayTune.ipynb",
      "provenance": [],
      "private_outputs": true,
      "include_colab_link": true
    },
    "kernelspec": {
      "name": "python3",
      "display_name": "Python 3"
    },
    "accelerator": "GPU"
  },
  "cells": [
    {
      "cell_type": "markdown",
      "metadata": {
        "id": "view-in-github",
        "colab_type": "text"
      },
      "source": [
        "<a href=\"https://colab.research.google.com/github/wandb/examples/blob/colabs%2Fraytune-torch/colabs/raytune/W%26B%20%2B%20RayTune.ipynb\" target=\"_parent\"><img src=\"https://colab.research.google.com/assets/colab-badge.svg\" alt=\"Open In Colab\"/></a>"
      ]
    },
    {
      "cell_type": "code",
      "metadata": {
        "id": "0EegpOpMiNf0"
      },
      "source": [
        "!pip install -qq filelock==3.0.12\n",
        "!pip install -U -qq ray==0.8.7\n",
        "!pip install -qq wandb"
      ],
      "execution_count": null,
      "outputs": []
    },
    {
      "cell_type": "code",
      "metadata": {
        "id": "yKmyNQh5iXnV"
      },
      "source": [
        "import getpass\n",
        "\n",
        "import random\n",
        "import numpy as np\n",
        "import torch\n",
        "import torch.optim as optim\n",
        "from ray import tune\n",
        "from ray.tune.examples.mnist_pytorch import get_data_loaders, ConvNet, train, test\n",
        "from ray import tune\n",
        "from ray.tune.integration.wandb import WandbLogger\n",
        "from ray.tune.integration.wandb import wandb_mixin\n",
        "import wandb\n",
        "\n",
        "random.seed(hash(\"setting random seeds\") % 2**32 - 1)\n",
        "np.random.seed(hash(\"improves reproducibility\") % 2**32 - 1)\n",
        "torch.manual_seed(hash(\"by removing stochasticity\") % 2**32 - 1)"
      ],
      "execution_count": null,
      "outputs": []
    },
    {
      "cell_type": "markdown",
      "metadata": {
        "id": "o2AldspdQLlQ"
      },
      "source": [
        "**W&B** integrates with `Ray` by offering two lightweight integrations:\n",
        "\n",
        "\n",
        "1.   One is the `WandbLogger`, which automatically logs metrics reported to Tune to the Wandb API\n",
        "\n",
        "2.  The other one is the `@wandb_mixin` decorator, which can be used with the function API. It automatically initializes the Wandb API with Tune’s training information.\n",
        "\n",
        "You can just use the Wandb API like you would normally do, e.g. using `wandb.log()` to log your training process."
      ]
    },
    {
      "cell_type": "code",
      "metadata": {
        "id": "GY7z2xGnk5XA"
      },
      "source": [
        "@wandb_mixin\n",
        "def train_mnist(config):\n",
        "    '''\n",
        "    Train_mnist function uses @wandb_mixin, so wandb.log() can be called within the scope of this function to report metrics.\n",
        "    '''\n",
        "    device = torch.device('cuda' if torch.cuda.is_available() else 'cpu')\n",
        "    train_loader, test_loader = get_data_loaders()\n",
        "    model = ConvNet()\n",
        "    model.to(device)\n",
        "    optimizer = optim.SGD(model.parameters(), lr=config[\"lr\"],momentum=config[\"momentum\"])\n",
        "    \n",
        "    for i in range(10):\n",
        "        train(model, optimizer, train_loader,device=device)\n",
        "        acc = test(model, test_loader,device=device)\n",
        "\n",
        "        metric = acc/2 # custom metric example\n",
        "        #Utilizing @wandb_mixin\n",
        "        wandb.log({\"custom metric\":metric})\n",
        "\n",
        "        #When using WanddLogger, the metrics reported to tune are also logged in the W&B dashboard\n",
        "        tune.report(mean_accuracy=acc)\n",
        "\n"
      ],
      "execution_count": null,
      "outputs": []
    },
    {
      "cell_type": "code",
      "metadata": {
        "id": "KXBnHdK9lbBy"
      },
      "source": [
        "api_key = getpass.getpass(\"Enter your W&B apikey from https://wandb.ai/settings : \")\n",
        "analysis = tune.run(\n",
        "    train_mnist,\n",
        "     \n",
        "     loggers=[WandbLogger], # WandbLogger\n",
        "\n",
        "     resources_per_trial={'gpu': 1},\n",
        "     config={\n",
        "        \"monitor\": True,\n",
        "        #wandb dict accepts all arguments that can be passed in wandb.init() \n",
        "        \"wandb\": {\"project\": \"rayTune-test\", \"monitor_gym\": True,\n",
        "                  \"job_type\": \"GPU\",\n",
        "                  \"api_key\": api_key},\n",
        "        \"lr\": tune.grid_search([0.0001,0.001,0.1,0.1,0.05,0.005]),\n",
        "        \"momentum\": tune.grid_search([0.8,0.85,0.99, 0.9])       \n",
        "    })\n",
        "\n",
        "print(\"Best config: \", analysis.get_best_config(metric=\"mean_accuracy\"))\n",
        "\n",
        "# Get a dataframe for analyzing trial results.\n",
        "df = analysis.dataframe()"
      ],
      "execution_count": null,
      "outputs": []
    }
  ]
}